{
 "cells": [
  {
   "cell_type": "code",
   "execution_count": null,
   "metadata": {},
   "outputs": [],
   "source": [
    "%matplotlib inline\n",
    "\n",
    "import pandas as pd\n",
    "import numpy as np\n",
    "import matplotlib.pyplot as plt\n",
    "import seaborn as sns\n",
    "import warnings\n",
    "warnings.filterwarnings('ignore')"
   ]
  },
  {
   "cell_type": "code",
   "execution_count": null,
   "metadata": {},
   "outputs": [],
   "source": [
    "df = pd.read_csv('en.openfoodfacts.org.products.tsv', sep = '\\t')"
   ]
  },
  {
   "cell_type": "code",
   "execution_count": null,
   "metadata": {},
   "outputs": [],
   "source": [
    "df.head()"
   ]
  },
  {
   "cell_type": "code",
   "execution_count": null,
   "metadata": {},
   "outputs": [],
   "source": [
    "drop_columns = ['code', 'url', 'creator','created_t','created_datetime','last_modified_t','last_modified_datetime']\n",
    "df.drop(drop_columns, axis = 1, inplace = True)"
   ]
  },
  {
   "cell_type": "code",
   "execution_count": null,
   "metadata": {},
   "outputs": [],
   "source": [
    "#df_cream = df[df['product_name'] == 'Ice Cream']\n",
    "#df_cream = df_cream[df_cream['brands'] == 'The Kroger Co.']\n",
    "#df_cream.to_csv('Test.csv')"
   ]
  },
  {
   "cell_type": "code",
   "execution_count": null,
   "metadata": {},
   "outputs": [],
   "source": [
    "print(df.columns.values)\n",
    "#df['cities'].value_counts()\n",
    "#df.isnull().sum()\n",
    "#df.shape\n",
    "#df.head()"
   ]
  },
  {
   "cell_type": "markdown",
   "metadata": {},
   "source": [
    "- 356 027 rows and 157 columns, big dataset"
   ]
  },
  {
   "cell_type": "markdown",
   "metadata": {},
   "source": [
    "### What I want to investigate\n",
    "\n",
    "- Product Name\n",
    "- Nutrition score (Not enough data)\n",
    "- Carbon Footprint (Not enough data)\n",
    "- Proteins 100g\n",
    "- Fiber 100g\n",
    "- Nutrition sccore uk 100g (Not enough data)\n",
    "- Sugars\n",
    "- Countries\n",
    "- additives"
   ]
  },
  {
   "cell_type": "code",
   "execution_count": null,
   "metadata": {},
   "outputs": [],
   "source": [
    "df = pd.read_csv('en.openfoodfacts.org.products.tsv', sep = '\\t')\n",
    "keep_columns = ['brands','product_name','countries', 'additives',\n",
    "             'nutrition-score-uk_100g','sugars_100g','fiber_100g', 'proteins_100g']\n",
    "\n",
    "df = df[keep_columns] \n",
    "df = df.drop_duplicates(['brands','product_name'], keep = 'first')\n",
    "df.to_csv('keep_columns.csv')"
   ]
  },
  {
   "cell_type": "code",
   "execution_count": null,
   "metadata": {},
   "outputs": [],
   "source": [
    "df = pd.read_csv('keep_columns.csv', index_col = 0)"
   ]
  },
  {
   "cell_type": "code",
   "execution_count": null,
   "metadata": {},
   "outputs": [],
   "source": [
    "df.dtypes"
   ]
  },
  {
   "cell_type": "code",
   "execution_count": null,
   "metadata": {},
   "outputs": [],
   "source": [
    "df.isnull().sum()\n",
    "\n",
    "df.shape"
   ]
  },
  {
   "cell_type": "code",
   "execution_count": null,
   "metadata": {},
   "outputs": [],
   "source": [
    "ax = sns.barplot(x = df['product_name'].value_counts()[:10].index, y = df['product_name'].value_counts()[:10])\n",
    "graph = ax.set_xticklabels(ax.get_xticklabels(), rotation=45, rotation_mode='anchor', ha = 'right')"
   ]
  },
  {
   "cell_type": "markdown",
   "metadata": {},
   "source": [
    "- Extra Virgin Olive Oil, Ice Cream, Potato Chips, Cookies and Salsa most common products"
   ]
  },
  {
   "cell_type": "code",
   "execution_count": null,
   "metadata": {},
   "outputs": [],
   "source": [
    "ax = sns.barplot(x = df['brands'].value_counts()[:10].index, y = df['product_name'].value_counts()[:10])\n",
    "graph = ax.set_xticklabels(ax.get_xticklabels(), rotation=45, rotation_mode='anchor', ha = 'right')"
   ]
  },
  {
   "cell_type": "markdown",
   "metadata": {},
   "source": [
    "- Carrefour, Auchan, U (?), Casino and Leader Price most common comapnies"
   ]
  },
  {
   "cell_type": "code",
   "execution_count": null,
   "metadata": {},
   "outputs": [],
   "source": [
    "df['countries'] = df['countries'].str.lower()\n",
    "df['countries'] = df['countries'].apply(lambda x: str(x).split(',')[0])\n",
    "\n",
    "def replace(string_in, string_out):\n",
    "    df['countries'] = df['countries'].apply(lambda x: str(x).replace(string_in, string_out))\n",
    "    return df['countries']\n",
    "\n",
    "dict_count = {\n",
    "            'en:fr': 'france',\n",
    "            'en:us': 'us',\n",
    "            'en:es': 'spain',\n",
    "            'españa': 'spain',\n",
    "            'en:ch': 'switzerland',\n",
    "            'en:gb': 'united kingdom',\n",
    "            'suisse': 'switzerland',\n",
    "            'en:be': 'belgium',\n",
    "            'belgique': 'belgium',\n",
    "            'deutschland': 'germany',\n",
    "            'italia': 'italy',\n",
    "            'en:it': 'italy',\n",
    "            'en:de': 'germany',\n",
    "            'en:ca': 'canada',\n",
    "            'en:cn': 'china',\n",
    "            'en:dk': 'denmark',\n",
    "            'danemark': 'denmark',\n",
    "            'en:se': 'sweden',\n",
    "            'sverige': 'sweden',\n",
    "            'frankreich': 'france',\n",
    "            'en:ma': 'morocco',\n",
    "            'österreich': 'austria',\n",
    "            'en:at': 'austria',\n",
    "            'allemagne': 'germany',\n",
    "            'en:au': 'austalia',\n",
    "            'en:cz': 'czech republic',\n",
    "            'en:ru': 'russia',\n",
    "            'россия': 'russia',\n",
    "            'united states': 'us',\n",
    "            'en:nl': 'netherlands',\n",
    "            'nederland': 'netherlands',\n",
    "            'magyarország': 'hungary',\n",
    "            'schweiz': 'switzerland',\n",
    "            'austalia': 'australia',\n",
    "            'en:dz': 'algeria',\n",
    "            'francia': 'france',\n",
    "            'en:br': 'brasil'\n",
    "}\n",
    "\n",
    "for key, value in dict_count.items():\n",
    "    df['countries'] = replace(key, value)\n",
    "\n",
    "df.to_csv('checkpoint.csv')"
   ]
  },
  {
   "cell_type": "code",
   "execution_count": null,
   "metadata": {},
   "outputs": [],
   "source": [
    "df = pd.read_csv('checkpoint.csv', index_col = 0)"
   ]
  },
  {
   "cell_type": "code",
   "execution_count": null,
   "metadata": {},
   "outputs": [],
   "source": [
    "ax = sns.barplot(x = df['countries'].value_counts()[:10].index, y = df['countries'].value_counts()[:10])\n",
    "graph = ax.set_xticklabels(ax.get_xticklabels(), rotation=45, rotation_mode='anchor', ha = 'right')"
   ]
  },
  {
   "cell_type": "markdown",
   "metadata": {},
   "source": [
    "- US and France most of the products from"
   ]
  },
  {
   "cell_type": "code",
   "execution_count": null,
   "metadata": {},
   "outputs": [],
   "source": [
    "df = pd.read_csv('checkpoint.csv', index_col = 0)\n",
    "df = df[df.countries != 'nan']\n",
    "df.head()"
   ]
  },
  {
   "cell_type": "code",
   "execution_count": null,
   "metadata": {},
   "outputs": [],
   "source": [
    "counts = df['countries'].value_counts()\n",
    "df = df[~df['countries'].isin(counts[counts < 100].index)] #Countries that have more than 10 values\n",
    "\n",
    "#df_group = df.groupby('countries').mean().sort_values(by='nutrition-score-uk_100g', ascending = False).reset_index()\n",
    "df['countries'].value_counts()[:50].sort_values(ascending=False)"
   ]
  },
  {
   "cell_type": "code",
   "execution_count": null,
   "metadata": {},
   "outputs": [],
   "source": [
    "df_product = df.groupby('product_name').mean().sort_values(by='nutrition-score-uk_100g', ascending = False)\n",
    "df_product"
   ]
  },
  {
   "cell_type": "code",
   "execution_count": null,
   "metadata": {},
   "outputs": [],
   "source": [
    "#df_group = df.groupby('nutrition-score-uk_100g').mean().sort_values(by = 'nutrition-score-uk_100g', ascending = False)\n",
    "#df_group = df.groupby('product_name').mean().sort_values(by = 'nutrition-score-uk_100g', ascending = False)\n",
    "df_group = df.groupby('countries').mean().sort_values(by = 'proteins_100g', ascending = False)\n",
    "#df_group = df.groupby('countries').mean().sort_values(by = 'nutrition-score-uk_100g', ascending = False)\n",
    "\n",
    "df_group.head(10)"
   ]
  },
  {
   "cell_type": "code",
   "execution_count": null,
   "metadata": {},
   "outputs": [],
   "source": [
    "some_values = ['Sverige', 'Sweden', 'Suecia']\n",
    "df_swe = df.loc[df['countries'].isin(some_values)]\n",
    "df_swe.isnull().sum()\n",
    "df_swe.drop('fiber_100g', axis = 1, inplace = True)\n",
    "df_swe.drop('countries', axis = 1, inplace = True)"
   ]
  },
  {
   "cell_type": "code",
   "execution_count": null,
   "metadata": {},
   "outputs": [],
   "source": [
    "df_swe.head()"
   ]
  },
  {
   "cell_type": "code",
   "execution_count": null,
   "metadata": {},
   "outputs": [],
   "source": [
    "ax = sns.barplot(x = df_swe['product_name'].value_counts()[:10].index, y = df_swe['product_name'].value_counts()[:10])\n",
    "graph = ax.set_xticklabels(ax.get_xticklabels(), rotation=45, rotation_mode='anchor', ha = 'right')"
   ]
  }
 ],
 "metadata": {
  "kernelspec": {
   "display_name": "Python 3",
   "language": "python",
   "name": "python3"
  },
  "language_info": {
   "codemirror_mode": {
    "name": "ipython",
    "version": 3
   },
   "file_extension": ".py",
   "mimetype": "text/x-python",
   "name": "python",
   "nbconvert_exporter": "python",
   "pygments_lexer": "ipython3",
   "version": "3.7.6"
  },
  "toc": {
   "base_numbering": 1,
   "nav_menu": {},
   "number_sections": true,
   "sideBar": true,
   "skip_h1_title": false,
   "title_cell": "Table of Contents",
   "title_sidebar": "Contents",
   "toc_cell": false,
   "toc_position": {},
   "toc_section_display": true,
   "toc_window_display": false
  }
 },
 "nbformat": 4,
 "nbformat_minor": 4
}
