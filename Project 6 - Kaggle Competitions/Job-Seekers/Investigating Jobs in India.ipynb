{
 "cells": [
  {
   "cell_type": "markdown",
   "metadata": {},
   "source": [
    "# Plan out project\n",
    "\n",
    "- In this project I will analyze the job applications to a specific job site\n",
    "- The features included in this table is:\n",
    "<br>\n",
    "- __Uniq id:__ Specific ID for job searcher\n",
    "- __Crawl Timestamp:__ When the recruiter disclosed the salary\n",
    "- __Job Title:__ The title of the job\n",
    "- __Job Salary:__ The salary of the Job\n",
    "- __Job Experience Required:__ How many years of experience needed\n",
    "- __Key Skills:__ Which skille are most needed for the job\n",
    "- __Role Catagory:__ In which category the job falls into\n",
    "- __Location:__ The location of the job\n",
    "- __Functional Area:__ In which area the job is in\n",
    "- __Industry:__ In which kind of the Industry the job is in\n",
    "- __Role:__ Which role the job is"
   ]
  },
  {
   "cell_type": "markdown",
   "metadata": {},
   "source": [
    "### Import modules\n",
    "\n",
    "- The modules that are needed for the project is imported below"
   ]
  },
  {
   "cell_type": "code",
   "execution_count": null,
   "metadata": {},
   "outputs": [],
   "source": [
    "%matplotlib inline\n",
    "\n",
    "import pandas as pd\n",
    "import numpy as np\n",
    "import matplotlib.pyplot as plt\n",
    "import seaborn as sns"
   ]
  },
  {
   "cell_type": "markdown",
   "metadata": {},
   "source": [
    "- Import the csv-file and look at the dataset"
   ]
  },
  {
   "cell_type": "code",
   "execution_count": null,
   "metadata": {},
   "outputs": [],
   "source": [
    "df = pd.read_csv('job_sample.csv')\n",
    "df.head()"
   ]
  },
  {
   "cell_type": "markdown",
   "metadata": {},
   "source": [
    "### Clean the dataset\n",
    "- It is important to clean the dataset in the right way so it will be possible to draw any conclusions from it"
   ]
  },
  {
   "cell_type": "code",
   "execution_count": null,
   "metadata": {},
   "outputs": [],
   "source": [
    "# Check null-values per column\n",
    "df.shape\n",
    "#df.isnull().sum()"
   ]
  },
  {
   "cell_type": "code",
   "execution_count": null,
   "metadata": {},
   "outputs": [],
   "source": [
    "df.dtypes"
   ]
  },
  {
   "cell_type": "markdown",
   "metadata": {},
   "source": [
    "- There are in total 30 000 rows and 11 columns\n",
    "- All columns have null-values in them besides the ID and the timestamp\n",
    "- Most of the null-values are in the Role Category and Key Skills category\n",
    "- All of the features are objects, some should be changed to numerical values"
   ]
  },
  {
   "cell_type": "code",
   "execution_count": null,
   "metadata": {},
   "outputs": [],
   "source": [
    "# Change Crawl Timestamp to datetime\n",
    "df['Crawl Timestamp'] = pd.to_datetime(df['Crawl Timestamp'])\n",
    "\n",
    "# Check how job types look like\n",
    "df['Job Salary'].value_counts()\n",
    "\n",
    "#df['Job Experience Required'].value_counts()"
   ]
  },
  {
   "cell_type": "markdown",
   "metadata": {},
   "source": [
    "1. It looks like the salarys are most often not disclused by recrutiter\n",
    "- Should make a new columns/transform to have value which are disclosed by recruiter\n",
    "\n",
    "2. Will remove the text in the beginning and end of string\n",
    "\n",
    "3. Will make bins to put the salarys in as it is easier to graph and compare, by taking the average of the salarys"
   ]
  },
  {
   "cell_type": "code",
   "execution_count": null,
   "metadata": {},
   "outputs": [],
   "source": [
    "def average_(df, column):\n",
    "    \n",
    "    # Split into two columns\n",
    "    df['A'], df['B'] = df[column].str.split('-', 1).str\n",
    "    \n",
    "    # Only keep numbers\n",
    "    df['A'] = df['A'].str.extract('(\\d+)', expand = False)\n",
    "    df['B'] = df['B'].str.extract('(\\d+)', expand = False)\n",
    "\n",
    "    # Don't keep to big numbers\n",
    "    df['A'] = df['A'].str[:9]\n",
    "    df['B'] = df['B'].str[:9]\n",
    "    \n",
    "    # Drop na\n",
    "    df.dropna(how = 'any', inplace = True)\n",
    "    df['Average'] = (df['A'].astype(int) + df['B'].astype(int))/2\n",
    "    \n",
    "    df.drop(['A', 'B'], axis = 1, inplace = True)\n",
    "    \n",
    "    return df['Average']"
   ]
  },
  {
   "cell_type": "code",
   "execution_count": null,
   "metadata": {},
   "outputs": [],
   "source": [
    "# Remove\n",
    "df['Job Salary'] = df['Job Salary'].apply(lambda x: str(x).replace(',', '')) # Remove commas\n",
    "\n",
    "# Use function to create average salary and average experience\n",
    "df['Average_Salary'] = average_(df, 'Job Salary')\n",
    "df['Average_Experience'] = average_(df, 'Job Experience Required')\n",
    "\n",
    "df.to_csv('First_Checkpoint.csv')"
   ]
  },
  {
   "cell_type": "code",
   "execution_count": null,
   "metadata": {},
   "outputs": [],
   "source": [
    "# Drop original columns\n",
    "df = pd.read_csv('First_Checkpoint.csv')\n",
    "df.drop(df.columns[0], axis=1, inplace = True)\n",
    "df.drop(['Job Salary'], axis = 1, inplace = True)\n",
    "df.drop(['Job Experience Required'], axis = 1, inplace = True)\n",
    "df.drop(['Average'], axis = 1, inplace = True)\n",
    "\n",
    "df.head()"
   ]
  },
  {
   "cell_type": "markdown",
   "metadata": {},
   "source": [
    "- Now we have the average job salary for each job seeker"
   ]
  },
  {
   "cell_type": "code",
   "execution_count": null,
   "metadata": {},
   "outputs": [],
   "source": [
    "def expand_column(df, column, delimiter):\n",
    "    df = df[column].str.split(delimiter, expand = True)\n",
    "    return df\n",
    "\n",
    "def add_columns(df, df2, length, name):\n",
    "    for i in range(length):\n",
    "        df[name + str(i)] = df2[i]\n",
    "    return df\n",
    "\n",
    "df_func = expand_column(df, 'Functional Area', ',')\n",
    "df_skills = expand_column(df, 'Key Skills', '|')\n",
    "df_role_categ = expand_column(df, 'Role Category', '/')\n",
    "df_industry = expand_column(df, 'Industry', ',')\n",
    "df_role = expand_column(df, 'Role', '/')\n",
    "df_job = expand_column(df, 'Job Title', '/')\n",
    "df_loc = expand_column(df, 'Location', ',')\n",
    "\n",
    "df = add_columns(df, df_func, 6, 'fun_')\n",
    "df = add_columns(df, df_skills, 10, 'skill_')\n",
    "df = add_columns(df, df_role_categ, 3, 'role_cat_')\n",
    "df = add_columns(df, df_industry, 4, 'ind_')\n",
    "df = add_columns(df, df_role, 2, 'role_')\n",
    "df = add_columns(df, df_job, 3, 'job_')\n",
    "df = add_columns(df, df_loc, 4, 'loc_')\n",
    "\n",
    "\n",
    "drop_columns = ['Functional Area', 'Key Skills', 'Role Category', 'Industry', 'Role', 'Job Title', 'Location']\n",
    "\n",
    "df.drop(drop_columns, axis = 1, inplace = True)\n",
    "df.head()"
   ]
  },
  {
   "cell_type": "code",
   "execution_count": null,
   "metadata": {},
   "outputs": [],
   "source": [
    "df_top_100 = df.sort_values(['Average_Salary']).tail(100)\n",
    "df_top_100.head()"
   ]
  },
  {
   "cell_type": "code",
   "execution_count": null,
   "metadata": {},
   "outputs": [],
   "source": [
    "import re\n",
    "\n",
    "df = df[df['Average_Salary'] < 3000000]\n",
    "\n",
    "def similar_values(df, string):\n",
    "    df['loc_0'][df['loc_0'].str.contains(string, case = False)] = string\n",
    "    return df\n",
    "\n",
    "#df_group = df.groupby('loc_0').mean().sort_values(by = 'Average_Salary', ascending = False).reset_index()\n",
    "\n",
    "list1 = ['Mumbai', 'Delhi', 'Bengaluru', 'Ahmedabad', 'Pune', 'Hyderabad', \n",
    "         'Gurgaon','Noida','Kolkata','Chennai','Ghaziabad','Surat','Faridabad']\n",
    "\n",
    "for i in range(len(list1)):\n",
    "    similar_values(df, list1[i])"
   ]
  },
  {
   "cell_type": "code",
   "execution_count": null,
   "metadata": {},
   "outputs": [],
   "source": [
    "df_list = df['loc_0'].value_counts()[:10].index.tolist()\n",
    "df_list"
   ]
  },
  {
   "cell_type": "code",
   "execution_count": null,
   "metadata": {},
   "outputs": [],
   "source": [
    "df['loc_0']"
   ]
  },
  {
   "cell_type": "code",
   "execution_count": null,
   "metadata": {},
   "outputs": [],
   "source": [
    "# Plotting\n",
    "\n",
    "sns.set(style=\"whitegrid\")\n",
    "ax = sns.barplot(x = df['loc_0'].value_counts()[0:10], y = df['Average_Salary'])\n",
    "graph = ax.set_xticklabels(ax.get_xticklabels(), rotation=45)"
   ]
  },
  {
   "cell_type": "code",
   "execution_count": null,
   "metadata": {},
   "outputs": [],
   "source": [
    "x = df['Average_Salary']\n",
    "\n",
    "plt.hist(x, density=True, bins=20)\n",
    "plt.ylabel('Probability')\n",
    "plt.xlabel('Salary')"
   ]
  },
  {
   "cell_type": "code",
   "execution_count": null,
   "metadata": {},
   "outputs": [],
   "source": [
    "x = df['Average_Experience']\n",
    "\n",
    "plt.hist(x, density=True, bins=20)\n",
    "plt.ylabel('Probability')\n",
    "plt.xlabel('Experience')"
   ]
  },
  {
   "cell_type": "code",
   "execution_count": null,
   "metadata": {},
   "outputs": [],
   "source": [
    "df['Job Average'].describe()"
   ]
  },
  {
   "cell_type": "code",
   "execution_count": null,
   "metadata": {},
   "outputs": [],
   "source": [
    "df.groupby('Location').mean().sort_values(by = 'Average_Salary', ascending = False)"
   ]
  },
  {
   "cell_type": "code",
   "execution_count": null,
   "metadata": {},
   "outputs": [],
   "source": []
  },
  {
   "cell_type": "code",
   "execution_count": null,
   "metadata": {},
   "outputs": [],
   "source": []
  }
 ],
 "metadata": {
  "kernelspec": {
   "display_name": "Python 3",
   "language": "python",
   "name": "python3"
  },
  "language_info": {
   "codemirror_mode": {
    "name": "ipython",
    "version": 3
   },
   "file_extension": ".py",
   "mimetype": "text/x-python",
   "name": "python",
   "nbconvert_exporter": "python",
   "pygments_lexer": "ipython3",
   "version": "3.7.6"
  },
  "toc": {
   "base_numbering": 1,
   "nav_menu": {},
   "number_sections": true,
   "sideBar": true,
   "skip_h1_title": false,
   "title_cell": "Table of Contents",
   "title_sidebar": "Contents",
   "toc_cell": false,
   "toc_position": {},
   "toc_section_display": true,
   "toc_window_display": false
  }
 },
 "nbformat": 4,
 "nbformat_minor": 4
}
