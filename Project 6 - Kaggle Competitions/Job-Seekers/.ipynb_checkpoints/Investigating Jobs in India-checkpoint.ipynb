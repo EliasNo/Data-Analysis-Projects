{
 "cells": [
  {
   "cell_type": "markdown",
   "metadata": {},
   "source": [
    "# Plan out project\n",
    "\n",
    "- In this project I will analyze the job applications to a specific job site\n",
    "- The features included in this table is:\n",
    "<br>\n",
    "- __Uniqe id:__ Specific ID for job searcher\n",
    "- __Crawl Timestamp:__ When the recruiter disclosed the salary\n",
    "- __Job Title:__ The title of the job\n",
    "- __Job Salary:__ The salary of the Job\n",
    "- __Job Experience Required:__ How many years of experience needed\n",
    "- __Key Skills:__ Which skille are most needed for the job\n",
    "- __Role Catagory:__ In which category the job falls into\n",
    "- __Location:__ The location of the job\n",
    "- __Functional Area:__ In which area the job is in\n",
    "- __Industry:__ In which kind of the Industry the job is in\n",
    "- __Role:__ Which role the job is"
   ]
  },
  {
   "cell_type": "markdown",
   "metadata": {},
   "source": [
    "### Import modules\n",
    "\n",
    "- The modules that are needed for the project is imported below"
   ]
  },
  {
   "cell_type": "code",
   "execution_count": null,
   "metadata": {},
   "outputs": [],
   "source": [
    "%matplotlib inline\n",
    "\n",
    "import pandas as pd\n",
    "import numpy as np\n",
    "import matplotlib.pyplot as plt\n",
    "import seaborn as sns"
   ]
  },
  {
   "cell_type": "markdown",
   "metadata": {},
   "source": [
    "- Import the csv-file and look at the dataset"
   ]
  },
  {
   "cell_type": "code",
   "execution_count": null,
   "metadata": {},
   "outputs": [],
   "source": [
    "df = pd.read_csv('job_sample.csv')\n",
    "df.head()"
   ]
  },
  {
   "cell_type": "markdown",
   "metadata": {},
   "source": [
    "### Clean the dataset\n",
    "- It is important to clean the dataset in the right way so it will be possible to draw any conclusions from it"
   ]
  },
  {
   "cell_type": "code",
   "execution_count": null,
   "metadata": {},
   "outputs": [],
   "source": [
    "# Check null-values per column\n",
    "df.shape\n",
    "df.isnull().sum()"
   ]
  },
  {
   "cell_type": "code",
   "execution_count": null,
   "metadata": {},
   "outputs": [],
   "source": [
    "df.dtypes"
   ]
  },
  {
   "cell_type": "markdown",
   "metadata": {},
   "source": [
    "- There are in total 30 000 rows and 11 columns\n",
    "- All columns have null-values in them besides the ID and the timestamp\n",
    "- Most of the null-values are in the Role Category and Key Skills category\n",
    "- All of the features are objects, some should be changed to numerical values"
   ]
  },
  {
   "cell_type": "code",
   "execution_count": null,
   "metadata": {},
   "outputs": [],
   "source": [
    "# Change Crawl Timestamp to datetime\n",
    "df['Crawl Timestamp'] = pd.to_datetime(df['Crawl Timestamp'])\n",
    "\n",
    "# Check how job types look like\n",
    "df['Job Salary'].value_counts()\n"
   ]
  },
  {
   "cell_type": "markdown",
   "metadata": {},
   "source": [
    "1. It looks like the salarys are most often not disclused by recrutiter\n",
    "- Should make a new columns/transform to have value which are disclosed by recruiter\n",
    "\n",
    "2. Will remove the text in the beginning and end of string\n",
    "\n",
    "3. Will make bins to put the salarys in as it is easier to graph and compare, by taking the average of the salarys"
   ]
  },
  {
   "cell_type": "code",
   "execution_count": null,
   "metadata": {},
   "outputs": [],
   "source": [
    "def average_not_text(df, column):\n",
    "    \n",
    "    # Split into two columns\n",
    "    df['A'], df['B'] = df[column].str.split('-', 1).str\n",
    "    \n",
    "    # Only keep numbers\n",
    "    df['A'] = df['A'].str.extract('(\\d+)', expand = False)\n",
    "    df['B'] = df['B'].str.extract('(\\d+)', expand = False)\n",
    "\n",
    "    # Don't keep to big numbers\n",
    "    df['A'] = df['A'].str[:9]\n",
    "    df['B'] = df['B'].str[:9]\n",
    "    \n",
    "    # Drop na\n",
    "    df.dropna(how = 'any', inplace = True)\n",
    "    df['Average'] = (df['A'].astype(int) + df['B'].astype(int))/2\n",
    "    \n",
    "    df.drop(['A', 'B'], axis = 1, inplace = True)\n",
    "    \n",
    "    return df['Average']"
   ]
  },
  {
   "cell_type": "code",
   "execution_count": null,
   "metadata": {},
   "outputs": [],
   "source": [
    "# Remove WhiteSpace and similar\n",
    "df = df.apply(lambda x: x.str.strip() if x.dtype == \"object\" else x)\n",
    "df['Job Salary'] = df['Job Salary'].apply(lambda x: str(x).replace(',', '')) # Remove commas\n",
    "\n",
    "\n",
    "# Use function to create average salary and average experience\n",
    "df['Average_Salary'] = average_(df, 'Job Salary')\n",
    "df['Average_Experience'] = average_(df, 'Job Experience Required')\n",
    "\n",
    "df.to_csv('First_Checkpoint.csv')"
   ]
  },
  {
   "cell_type": "code",
   "execution_count": null,
   "metadata": {},
   "outputs": [],
   "source": [
    "# Drop original columns\n",
    "df = pd.read_csv('First_Checkpoint.csv')\n",
    "df.drop(df.columns[0], axis=1, inplace = True)\n",
    "df.drop(['Job Salary'], axis = 1, inplace = True)\n",
    "df.drop(['Job Experience Required'], axis = 1, inplace = True)\n",
    "df.drop(['Average'], axis = 1, inplace = True)\n",
    "\n",
    "df.head()"
   ]
  },
  {
   "cell_type": "markdown",
   "metadata": {},
   "source": [
    "- Now we have the average job salary for each job seeker"
   ]
  },
  {
   "cell_type": "code",
   "execution_count": null,
   "metadata": {},
   "outputs": [],
   "source": [
    "def expand_column(df, column, delimiter):\n",
    "    df = df[column].str.split(delimiter, expand = True)\n",
    "    return df\n",
    "\n",
    "def add_columns(df, df2, length, name):\n",
    "    for i in range(length):\n",
    "        df[name + str(i)] = df2[i]\n",
    "    return df\n",
    "\n",
    "df_func = expand_column(df, 'Functional Area', ',')\n",
    "df_skills = expand_column(df, 'Key Skills', '|')\n",
    "df_role_categ = expand_column(df, 'Role Category', '/')\n",
    "df_industry = expand_column(df, 'Industry', ',')\n",
    "df_role = expand_column(df, 'Role', '/')\n",
    "df_job = expand_column(df, 'Job Title', '/')\n",
    "df_loc = expand_column(df, 'Location', ',')\n",
    "\n",
    "df = add_columns(df, df_func, 6, 'fun_')\n",
    "df = add_columns(df, df_skills, 10, 'skill_')\n",
    "df = add_columns(df, df_role_categ, 3, 'role_cat_')\n",
    "df = add_columns(df, df_industry, 4, 'ind_')\n",
    "df = add_columns(df, df_role, 2, 'role_')\n",
    "df = add_columns(df, df_job, 3, 'job_')\n",
    "df = add_columns(df, df_loc, 4, 'loc_')\n",
    "\n",
    "\n",
    "drop_columns = ['Functional Area', 'Key Skills', 'Role Category', 'Industry', 'Role', 'Job Title', 'Location']\n",
    "\n",
    "df.drop(drop_columns, axis = 1, inplace = True)\n",
    "df.head()\n",
    "\n",
    "df.to_csv('Second_Checkpoint.csv')"
   ]
  },
  {
   "cell_type": "code",
   "execution_count": null,
   "metadata": {},
   "outputs": [],
   "source": [
    "df = pd.read_csv('Second_Checkpoint.csv')\n",
    "\n",
    "df = df[df['Average_Salary'] < 3000000]\n",
    "\n",
    "df['loc_1'].dropna(how = 'any', inplace = True)\n",
    "\n",
    "def similar_values(df, string):\n",
    "    df['loc_0'][df['loc_0'].str.contains(string, case = False)] = string\n",
    "    return df\n",
    "\n",
    "def similar_values2(df, string):\n",
    "    df['loc_1'][df['loc_1'].str.contains(string, case = False)] = string\n",
    "    return df\n",
    "\n",
    "#df_group = df.groupby('loc_0').mean().sort_values(by = 'Average_Salary', ascending = False).reset_index()\n",
    "\n",
    "list1 = ['Mumbai', 'Delhi', 'Bengaluru', 'Ahmedabad', 'Pune', 'Hyderabad', \n",
    "         'Gurgaon','Noida','Kolkata','Chennai','Ghaziabad','Surat','Faridabad']\n",
    "    \n",
    "for i in range(len(list1)):\n",
    "    similar_values(df, list1[i])\n",
    "    \n",
    "for i in range(len(list1)):\n",
    "    similar_values2(df, list1[i])\n",
    "    \n",
    "df['loc_0'].value_counts()"
   ]
  },
  {
   "cell_type": "code",
   "execution_count": null,
   "metadata": {},
   "outputs": [],
   "source": [
    "loc_larg = df['loc_0'].value_counts().nlargest(n = 10)\n",
    "loc_larg2 = df['loc_1'].value_counts().nlargest(n = 10)\n",
    "\n",
    "job_larg = df['job_0'].value_counts().nlargest(n = 10)\n",
    "job_larg2 = df['job_1'].value_counts().nlargest(n = 10)\n",
    "\n",
    "fun_larg = df['fun_0'].value_counts().nlargest(n = 10)\n",
    "fun_larg2 = df['fun_1'].value_counts().nlargest(n = 10)\n",
    "\n",
    "skills_larg = df['skill_0'].value_counts().nlargest(n = 10)\n",
    "skills_larg2 = df['skill_1'].value_counts().nlargest(n = 10)\n",
    "\n",
    "industry_larg = df['ind_0'].value_counts().nlargest(n = 10)\n",
    "industry_larg2 = df['ind_1'].value_counts().nlargest(n = 10)\n",
    "\n",
    "rol_larg = df['role_0'].value_counts().nlargest(n = 10)\n",
    "rol_larg2 = df['role_1'].value_counts().nlargest(n = 10)\n",
    "\n",
    "rol_cat_larg = df['role_cat_0'].value_counts().nlargest(n = 10)\n",
    "rol_cat_larg2 = df['role_cat_1'].value_counts().nlargest(n = 10)\n"
   ]
  },
  {
   "cell_type": "code",
   "execution_count": null,
   "metadata": {},
   "outputs": [],
   "source": [
    "# Function to plot figures\n",
    "def plot_figure(dataframe1, dataframe2, title1, title2):\n",
    "    fig, ax = plt.subplots(1,2, figsize = (10,6))\n",
    "\n",
    "    sns.set(style=\"whitegrid\")\n",
    "    ax1 = sns.barplot(x = dataframe1.index, y = dataframe1, ax = ax[0])\n",
    "    ax1.set_title(title1, fontsize = 14)\n",
    "    ax1.set_ylabel('Number of Occurances')\n",
    "    graph = ax[0].set_xticklabels(ax1.get_xticklabels(), rotation=45, rotation_mode='anchor', ha = 'right')\n",
    "\n",
    "    sns.set(style=\"whitegrid\")\n",
    "    ax2 = sns.barplot(x = dataframe2.index, y = dataframe2, ax = ax[1])\n",
    "    ax2.set_title(title2, fontsize = 14)\n",
    "    ax2.set_ylabel('Number of Occurances')\n",
    "    graph = ax[1].set_xticklabels(ax2.get_xticklabels(), rotation=45, rotation_mode='anchor', ha = 'right')"
   ]
  },
  {
   "cell_type": "code",
   "execution_count": null,
   "metadata": {},
   "outputs": [],
   "source": [
    "plot_figure(loc_larg, loc_larg2,'Main Location', 'Secondary Location')"
   ]
  },
  {
   "cell_type": "code",
   "execution_count": null,
   "metadata": {},
   "outputs": [],
   "source": [
    "plot_figure(job_larg, job_larg2, 'Main Job Title', 'Secondary Job Title')"
   ]
  },
  {
   "cell_type": "code",
   "execution_count": null,
   "metadata": {},
   "outputs": [],
   "source": [
    "plot_figure(fun_larg, fun_larg2, 'Main Function', 'Secondary Function')"
   ]
  },
  {
   "cell_type": "code",
   "execution_count": null,
   "metadata": {},
   "outputs": [],
   "source": [
    "plot_figure(skills_larg, skills_larg2, 'Main Skills', 'Secondary Skills')"
   ]
  },
  {
   "cell_type": "code",
   "execution_count": null,
   "metadata": {},
   "outputs": [],
   "source": [
    "plot_figure(industry_larg, industry_larg2, 'Main Industry', 'Secondary Industry')"
   ]
  },
  {
   "cell_type": "code",
   "execution_count": null,
   "metadata": {},
   "outputs": [],
   "source": [
    "plot_figure(rol_larg, rol_larg2, 'Main Role', 'Secondary Role')"
   ]
  },
  {
   "cell_type": "code",
   "execution_count": null,
   "metadata": {},
   "outputs": [],
   "source": [
    "plot_figure(rol_cat_larg, rol_cat_larg2, 'Main Role Category', 'Secondary Role Category')"
   ]
  },
  {
   "cell_type": "markdown",
   "metadata": {},
   "source": [
    "### Evaluation vs Salary\n",
    "- Now we have seen the most common for each, let us investigate comparing to salaries"
   ]
  },
  {
   "cell_type": "code",
   "execution_count": null,
   "metadata": {},
   "outputs": [],
   "source": [
    "df = pd.read_csv('Second_Checkpoint.csv')\n",
    "\n",
    "def group_function(df, column, treshold):\n",
    "    counts = df[column].value_counts()\n",
    "    df = df[~df[column].isin(counts[counts < treshold].index)]\n",
    "    df[column].value_counts()\n",
    "    df = df.groupby(column).mean().sort_values(by = 'Average_Salary', ascending = False)\n",
    "    return df"
   ]
  },
  {
   "cell_type": "code",
   "execution_count": null,
   "metadata": {},
   "outputs": [],
   "source": [
    "plt.figure(figsize = (10,5))\n",
    "df['Average_Experience'] = round(df['Average_Experience'])\n",
    "ax = sns.barplot(x = 'Average_Experience', y = 'Average_Salary', data = df)\n",
    "graph = ax.set_xticklabels(ax.get_xticklabels(), rotation=45, rotation_mode='anchor', ha = 'right')"
   ]
  },
  {
   "cell_type": "code",
   "execution_count": null,
   "metadata": {},
   "outputs": [],
   "source": [
    "df_loc = group_function(df, 'loc_0', 20).reset_index()\n",
    "\n",
    "ax = sns.barplot(x = 'loc_0', y = 'Average_Salary', data = df_loc)\n",
    "graph = ax.set_xticklabels(ax.get_xticklabels(), rotation=45, rotation_mode='anchor', ha = 'right')"
   ]
  },
  {
   "cell_type": "code",
   "execution_count": null,
   "metadata": {},
   "outputs": [],
   "source": [
    "df_job = group_function(df, 'job_0', 10).reset_index()\n",
    "ax = sns.barplot(x = 'job_0', y = 'Average_Salary', data = df_job)\n",
    "graph = ax.set_xticklabels(ax.get_xticklabels(), rotation=45, rotation_mode='anchor', ha = 'right')"
   ]
  },
  {
   "cell_type": "code",
   "execution_count": null,
   "metadata": {},
   "outputs": [],
   "source": [
    "df_skill = group_function(df, 'fun_0', 50).reset_index()\n",
    "ax = sns.barplot(x = 'fun_0', y = 'Average_Salary', data = df_skill)\n",
    "graph = ax.set_xticklabels(ax.get_xticklabels(), rotation=45, rotation_mode='anchor', ha = 'right')"
   ]
  },
  {
   "cell_type": "code",
   "execution_count": null,
   "metadata": {},
   "outputs": [],
   "source": [
    "df_skill = group_function(df, 'skill_0', 30).reset_index()\n",
    "ax = sns.barplot(x = 'skill_0', y = 'Average_Salary', data = df_skill)\n",
    "graph = ax.set_xticklabels(ax.get_xticklabels(), rotation=45, rotation_mode='anchor', ha = 'right')"
   ]
  },
  {
   "cell_type": "code",
   "execution_count": null,
   "metadata": {},
   "outputs": [],
   "source": [
    "df_ind = group_function(df, 'ind_0', 80).reset_index()\n",
    "ax = sns.barplot(x = 'ind_0', y = 'Average_Salary', data = df_ind)\n",
    "graph = ax.set_xticklabels(ax.get_xticklabels(), rotation=45, rotation_mode='anchor', ha = 'right')"
   ]
  },
  {
   "cell_type": "code",
   "execution_count": null,
   "metadata": {},
   "outputs": [],
   "source": [
    "df_role = group_function(df, 'role_0', 50).reset_index()\n",
    "ax = sns.barplot(x = 'role_0', y = 'Average_Salary', data = df_role)\n",
    "graph = ax.set_xticklabels(ax.get_xticklabels(), rotation=45, rotation_mode='anchor', ha = 'right')"
   ]
  },
  {
   "cell_type": "code",
   "execution_count": null,
   "metadata": {},
   "outputs": [],
   "source": [
    "df_role_cat = group_function(df, 'role_cat_0', 60).reset_index()\n",
    "ax = sns.barplot(x = 'role_cat_0', y = 'Average_Salary', data = df_role_cat)\n",
    "graph = ax.set_xticklabels(ax.get_xticklabels(), rotation=45, rotation_mode='anchor', ha = 'right')"
   ]
  },
  {
   "cell_type": "markdown",
   "metadata": {},
   "source": [
    "### Summary of jobs that disclose Salaries\n",
    "\n",
    "Most Common Location of Job seekers\n",
    "- Mumbai\n",
    "- Delhi\n",
    "- Bengaluru\n",
    "- Pune\n",
    "- Gurgaun\n",
    "\n",
    "Most common Job titles\n",
    "- Business Developement Executive\n",
    "- Sales Executive\n",
    "- Java Developer\n",
    "- Business Developement Manager\n",
    "- PHP Developer\n",
    "\n",
    "Most common Functions\n",
    "- Sales\n",
    "- IT Software\n",
    "- ITES\n",
    "- HR\n",
    "- Accounts\n",
    "\n",
    "Most common Skills\n",
    "- bpo\n",
    "- Sales\n",
    "- Java\n",
    "- Communication Skills\n",
    "- C#\n",
    "\n",
    "Most common Industries\n",
    "- IT-Software\n",
    "- BPO\n",
    "- Banking\n",
    "- Education\n",
    "- Medical\n",
    "\n",
    "Most common Roles\n",
    "- Software Developer\n",
    "- Associate\n",
    "- Sales\n",
    "- Sales Executive\n",
    "- Fresher\n",
    "\n",
    "Most common Role Category\n",
    "- Programming & Design\n",
    "- Voice\n",
    "- Retail Sales\n",
    "- HR\n",
    "- Other\n",
    "\n",
    "## Features vs Salary\n",
    "\n",
    "Experience vs Salary\n",
    "- Strong relationship, highest Salaries between 15-25 years of experience\n",
    "\n",
    "Highest Salary per Job location\n",
    "1. Bengaluru\n",
    "2. Mumbai\n",
    "3. Gurgaon\n",
    "4. Huderabad\n",
    "5. Pune\n",
    "\n",
    "Highest Salary per Job title\n",
    "1. Manager\n",
    "2. Developement Manager\n",
    "3. Full Stack Developer\n",
    "4. Business Analyst\n",
    "5. Area Sales Manager\n",
    "\n",
    "Highest Salary per Function\n",
    "1. Analytics & Business Intelligence\n",
    "2. IT SoftWare - eCommerce\n",
    "3. IT Software - OTher\n",
    "4. IT SoftWare - Application Programming\n",
    "5. ITES\n",
    "\n",
    "Highest Salary Per Skill\n",
    "1. Java\n",
    "2. C#\n",
    "3. business developement\n",
    "4. Sales\n",
    "5. Digital Marketing\n",
    "\n",
    "Highest Salary Per Industry\n",
    "1. Medical\n",
    "2. IT-Software\n",
    "3. Automobile\n",
    "4. Retail\n",
    "5. FMCG\n",
    "\n",
    "Highest Salary Per Role\n",
    "1. Fresher\n",
    "2. Head\n",
    "3. Team Lead\n",
    "4. Software Developer\n",
    "5. Testing Engineer\n",
    "\n",
    "Highest Salary per Role Catagory\n",
    "1. Management\n",
    "2. Other\n",
    "3. System Design\n",
    "4. Programming & Design\n",
    "5. Finance"
   ]
  }
 ],
 "metadata": {
  "kernelspec": {
   "display_name": "Python 3",
   "language": "python",
   "name": "python3"
  },
  "language_info": {
   "codemirror_mode": {
    "name": "ipython",
    "version": 3
   },
   "file_extension": ".py",
   "mimetype": "text/x-python",
   "name": "python",
   "nbconvert_exporter": "python",
   "pygments_lexer": "ipython3",
   "version": "3.7.6"
  },
  "toc": {
   "base_numbering": 1,
   "nav_menu": {},
   "number_sections": true,
   "sideBar": true,
   "skip_h1_title": false,
   "title_cell": "Table of Contents",
   "title_sidebar": "Contents",
   "toc_cell": false,
   "toc_position": {},
   "toc_section_display": true,
   "toc_window_display": false
  }
 },
 "nbformat": 4,
 "nbformat_minor": 4
}
